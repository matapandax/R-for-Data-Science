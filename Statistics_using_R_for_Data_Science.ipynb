{
  "nbformat": 4,
  "nbformat_minor": 0,
  "metadata": {
    "colab": {
      "name": "Statistics using R for Data Science.ipynb",
      "provenance": [],
      "authorship_tag": "ABX9TyNnjtamljIKJiI1Gp2rtcWM",
      "include_colab_link": true
    },
    "kernelspec": {
      "name": "ir",
      "display_name": "R"
    },
    "language_info": {
      "name": "R"
    }
  },
  "cells": [
    {
      "cell_type": "markdown",
      "metadata": {
        "id": "view-in-github",
        "colab_type": "text"
      },
      "source": [
        "<a href=\"https://colab.research.google.com/github/matapandax/R-for-Data-Science/blob/main/Statistics_using_R_for_Data_Science.ipynb\" target=\"_parent\"><img src=\"https://colab.research.google.com/assets/colab-badge.svg\" alt=\"Open In Colab\"/></a>"
      ]
    },
    {
      "cell_type": "code",
      "metadata": {
        "colab": {
          "base_uri": "https://localhost:8080/"
        },
        "id": "_l3-0LOftELR",
        "outputId": "b8d115aa-f628-49f6-d1b2-deef6e70647a"
      },
      "source": [
        "#Membaca dataset dengan read.csv dan dimasukkan ke variable data_intro\n",
        "data_intro <- read.csv(\"https://storage.googleapis.com/dqlab-dataset/data_intro.csv\",sep=\";\")\n",
        "str(data_intro)\n"
      ],
      "execution_count": 1,
      "outputs": [
        {
          "output_type": "stream",
          "text": [
            "'data.frame':\t20 obs. of  9 variables:\n",
            " $ ID.Pelanggan    : int  1 2 3 4 5 6 7 8 9 10 ...\n",
            " $ Nama            : chr  \"Arif\" \"Dian\" \"Dinda\" \"Fajar\" ...\n",
            " $ Jenis.Kelamin   : int  1 2 2 1 2 1 1 2 2 2 ...\n",
            " $ Pendapatan      : int  600000 1200000 950000 400000 1200000 800000 950000 1100000 800000 1700000 ...\n",
            " $ Produk          : chr  \"A\" \"D\" \"D\" \"A\" ...\n",
            " $ Harga           : int  100000 250000 250000 100000 250000 150000 150000 300000 300000 300000 ...\n",
            " $ Jumlah          : int  4 4 3 2 4 4 5 3 2 5 ...\n",
            " $ Total           : int  400000 1000000 750000 200000 1000000 600000 750000 900000 600000 1500000 ...\n",
            " $ Tingkat.Kepuasan: int  2 2 3 3 2 3 1 3 1 1 ...\n"
          ],
          "name": "stdout"
        }
      ]
    },
    {
      "cell_type": "code",
      "metadata": {
        "colab": {
          "base_uri": "https://localhost:8080/"
        },
        "id": "5NziO_x4tYaP",
        "outputId": "30c28981-6a53-4948-c4fa-202c379c84f7"
      },
      "source": [
        "## mengubah data menjadi karakter karena tidak dilakukan analisis statistik pada variabel ID Pelanggan dan nama\n",
        "data_intro$ID.Pelanggan <-as.character(data_intro$ID.Pelanggan)\n",
        "data_intro$Nama <-as.character(data_intro$Nama)\n",
        "## melihat apakah sudah berhasil dalam mengubah variabel tersebut\n",
        "str(data_intro$ID.Pelanggan)\n",
        " str(data_intro$Nama)"
      ],
      "execution_count": 2,
      "outputs": [
        {
          "output_type": "stream",
          "text": [
            " chr [1:20] \"1\" \"2\" \"3\" \"4\" \"5\" \"6\" \"7\" \"8\" \"9\" \"10\" \"11\" \"12\" \"13\" \"14\" ...\n",
            " chr [1:20] \"Arif\" \"Dian\" \"Dinda\" \"Fajar\" \"Ika\" \"Ilham\" \"Indra\" \"Kartika\" ...\n"
          ],
          "name": "stdout"
        }
      ]
    },
    {
      "cell_type": "code",
      "metadata": {
        "colab": {
          "base_uri": "https://localhost:8080/"
        },
        "id": "9-ZVSKNJtq3z",
        "outputId": "420bb900-fa63-4608-b80e-0fb15810f03d"
      },
      "source": [
        "## Mengubah data menjadi factor untuk membedakan data kualitatif dengan menggunakan functon as.factor\n",
        "data_intro$Jenis.Kelamin <- as.factor(data_intro$Jenis.Kelamin)\n",
        "\n",
        "data_intro$Produk <- as.factor(data_intro$Produk)\n",
        "\n",
        "data_intro$Tingkat.Kepuasan <- as.factor(data_intro$Tingkat.Kepuasan)\n",
        "## Melihat apakah sudah berhasil dalam mengubah variabel tersebut dengan menggunakan function str\n",
        "str(data_intro$Jenis.Kelamin)\n",
        "str(data_intro$Produk)\n",
        "str(data_intro$Tingkat.Kepuasan)"
      ],
      "execution_count": 3,
      "outputs": [
        {
          "output_type": "stream",
          "text": [
            " Factor w/ 2 levels \"1\",\"2\": 1 2 2 1 2 1 1 2 2 2 ...\n",
            " Factor w/ 5 levels \"A\",\"B\",\"C\",\"D\",..: 1 4 4 1 4 2 2 5 5 5 ...\n",
            " Factor w/ 3 levels \"1\",\"2\",\"3\": 2 2 3 3 2 3 1 3 1 1 ...\n"
          ],
          "name": "stdout"
        }
      ]
    },
    {
      "cell_type": "code",
      "metadata": {
        "colab": {
          "base_uri": "https://localhost:8080/",
          "height": 881
        },
        "id": "qNpgefN6tse4",
        "outputId": "63c8a70a-0f91-448a-c325-e78347e0ba8f"
      },
      "source": [
        "# melihat data/ pemanggilan data\n",
        "data_intro\n",
        "# melihat tipe data\n",
        "str(data_intro)"
      ],
      "execution_count": 4,
      "outputs": [
        {
          "output_type": "display_data",
          "data": {
            "text/plain": [
              "   ID.Pelanggan Nama    Jenis.Kelamin Pendapatan Produk Harga  Jumlah Total  \n",
              "1  1            Arif    1              600000    A      100000 4       400000\n",
              "2  2            Dian    2             1200000    D      250000 4      1000000\n",
              "3  3            Dinda   2              950000    D      250000 3       750000\n",
              "4  4            Fajar   1              400000    A      100000 2       200000\n",
              "5  5            Ika     2             1200000    D      250000 4      1000000\n",
              "6  6            Ilham   1              800000    B      150000 4       600000\n",
              "7  7            Indra   1              950000    B      150000 5       750000\n",
              "8  8            Kartika 2             1100000    E      300000 3       900000\n",
              "9  9            Lestari 2              800000    E      300000 2       600000\n",
              "10 10           Lia     2             1700000    E      300000 5      1500000\n",
              "11 11           Maria   2              600000    A      100000 4       400000\n",
              "12 12           Maya    2              950000    B      150000 5       750000\n",
              "13 13           Mila    2              400000    C      200000 1       200000\n",
              "14 14           Nurul   2             6450000    D      250000 5      1250000\n",
              "15 15           Retno   2             1000000    C      200000 4       800000\n",
              "16 16           Rini    2              800000    B      150000 4       600000\n",
              "17 17           Rizki   1             1200000    C      200000 5      1000000\n",
              "18 18           Sari    2              700000    D      250000 2       500000\n",
              "19 19           Tyas    2              600000    A      100000 4       400000\n",
              "20 20           Wahyu   1              800000    C      200000 3       600000\n",
              "   Tingkat.Kepuasan\n",
              "1  2               \n",
              "2  2               \n",
              "3  3               \n",
              "4  3               \n",
              "5  2               \n",
              "6  3               \n",
              "7  1               \n",
              "8  3               \n",
              "9  1               \n",
              "10 1               \n",
              "11 3               \n",
              "12 3               \n",
              "13 2               \n",
              "14 1               \n",
              "15 2               \n",
              "16 1               \n",
              "17 3               \n",
              "18 1               \n",
              "19 3               \n",
              "20 1               "
            ],
            "text/latex": "A data.frame: 20 × 9\n\\begin{tabular}{lllllllll}\n ID.Pelanggan & Nama & Jenis.Kelamin & Pendapatan & Produk & Harga & Jumlah & Total & Tingkat.Kepuasan\\\\\n <chr> & <chr> & <fct> & <int> & <fct> & <int> & <int> & <int> & <fct>\\\\\n\\hline\n\t 1  & Arif    & 1 &  600000 & A & 100000 & 4 &  400000 & 2\\\\\n\t 2  & Dian    & 2 & 1200000 & D & 250000 & 4 & 1000000 & 2\\\\\n\t 3  & Dinda   & 2 &  950000 & D & 250000 & 3 &  750000 & 3\\\\\n\t 4  & Fajar   & 1 &  400000 & A & 100000 & 2 &  200000 & 3\\\\\n\t 5  & Ika     & 2 & 1200000 & D & 250000 & 4 & 1000000 & 2\\\\\n\t 6  & Ilham   & 1 &  800000 & B & 150000 & 4 &  600000 & 3\\\\\n\t 7  & Indra   & 1 &  950000 & B & 150000 & 5 &  750000 & 1\\\\\n\t 8  & Kartika & 2 & 1100000 & E & 300000 & 3 &  900000 & 3\\\\\n\t 9  & Lestari & 2 &  800000 & E & 300000 & 2 &  600000 & 1\\\\\n\t 10 & Lia     & 2 & 1700000 & E & 300000 & 5 & 1500000 & 1\\\\\n\t 11 & Maria   & 2 &  600000 & A & 100000 & 4 &  400000 & 3\\\\\n\t 12 & Maya    & 2 &  950000 & B & 150000 & 5 &  750000 & 3\\\\\n\t 13 & Mila    & 2 &  400000 & C & 200000 & 1 &  200000 & 2\\\\\n\t 14 & Nurul   & 2 & 6450000 & D & 250000 & 5 & 1250000 & 1\\\\\n\t 15 & Retno   & 2 & 1000000 & C & 200000 & 4 &  800000 & 2\\\\\n\t 16 & Rini    & 2 &  800000 & B & 150000 & 4 &  600000 & 1\\\\\n\t 17 & Rizki   & 1 & 1200000 & C & 200000 & 5 & 1000000 & 3\\\\\n\t 18 & Sari    & 2 &  700000 & D & 250000 & 2 &  500000 & 1\\\\\n\t 19 & Tyas    & 2 &  600000 & A & 100000 & 4 &  400000 & 3\\\\\n\t 20 & Wahyu   & 1 &  800000 & C & 200000 & 3 &  600000 & 1\\\\\n\\end{tabular}\n",
            "text/markdown": "\nA data.frame: 20 × 9\n\n| ID.Pelanggan &lt;chr&gt; | Nama &lt;chr&gt; | Jenis.Kelamin &lt;fct&gt; | Pendapatan &lt;int&gt; | Produk &lt;fct&gt; | Harga &lt;int&gt; | Jumlah &lt;int&gt; | Total &lt;int&gt; | Tingkat.Kepuasan &lt;fct&gt; |\n|---|---|---|---|---|---|---|---|---|\n| 1  | Arif    | 1 |  600000 | A | 100000 | 4 |  400000 | 2 |\n| 2  | Dian    | 2 | 1200000 | D | 250000 | 4 | 1000000 | 2 |\n| 3  | Dinda   | 2 |  950000 | D | 250000 | 3 |  750000 | 3 |\n| 4  | Fajar   | 1 |  400000 | A | 100000 | 2 |  200000 | 3 |\n| 5  | Ika     | 2 | 1200000 | D | 250000 | 4 | 1000000 | 2 |\n| 6  | Ilham   | 1 |  800000 | B | 150000 | 4 |  600000 | 3 |\n| 7  | Indra   | 1 |  950000 | B | 150000 | 5 |  750000 | 1 |\n| 8  | Kartika | 2 | 1100000 | E | 300000 | 3 |  900000 | 3 |\n| 9  | Lestari | 2 |  800000 | E | 300000 | 2 |  600000 | 1 |\n| 10 | Lia     | 2 | 1700000 | E | 300000 | 5 | 1500000 | 1 |\n| 11 | Maria   | 2 |  600000 | A | 100000 | 4 |  400000 | 3 |\n| 12 | Maya    | 2 |  950000 | B | 150000 | 5 |  750000 | 3 |\n| 13 | Mila    | 2 |  400000 | C | 200000 | 1 |  200000 | 2 |\n| 14 | Nurul   | 2 | 6450000 | D | 250000 | 5 | 1250000 | 1 |\n| 15 | Retno   | 2 | 1000000 | C | 200000 | 4 |  800000 | 2 |\n| 16 | Rini    | 2 |  800000 | B | 150000 | 4 |  600000 | 1 |\n| 17 | Rizki   | 1 | 1200000 | C | 200000 | 5 | 1000000 | 3 |\n| 18 | Sari    | 2 |  700000 | D | 250000 | 2 |  500000 | 1 |\n| 19 | Tyas    | 2 |  600000 | A | 100000 | 4 |  400000 | 3 |\n| 20 | Wahyu   | 1 |  800000 | C | 200000 | 3 |  600000 | 1 |\n\n",
            "text/html": [
              "<table class=\"dataframe\">\n",
              "<caption>A data.frame: 20 × 9</caption>\n",
              "<thead>\n",
              "\t<tr><th scope=col>ID.Pelanggan</th><th scope=col>Nama</th><th scope=col>Jenis.Kelamin</th><th scope=col>Pendapatan</th><th scope=col>Produk</th><th scope=col>Harga</th><th scope=col>Jumlah</th><th scope=col>Total</th><th scope=col>Tingkat.Kepuasan</th></tr>\n",
              "\t<tr><th scope=col>&lt;chr&gt;</th><th scope=col>&lt;chr&gt;</th><th scope=col>&lt;fct&gt;</th><th scope=col>&lt;int&gt;</th><th scope=col>&lt;fct&gt;</th><th scope=col>&lt;int&gt;</th><th scope=col>&lt;int&gt;</th><th scope=col>&lt;int&gt;</th><th scope=col>&lt;fct&gt;</th></tr>\n",
              "</thead>\n",
              "<tbody>\n",
              "\t<tr><td>1 </td><td>Arif   </td><td>1</td><td> 600000</td><td>A</td><td>100000</td><td>4</td><td> 400000</td><td>2</td></tr>\n",
              "\t<tr><td>2 </td><td>Dian   </td><td>2</td><td>1200000</td><td>D</td><td>250000</td><td>4</td><td>1000000</td><td>2</td></tr>\n",
              "\t<tr><td>3 </td><td>Dinda  </td><td>2</td><td> 950000</td><td>D</td><td>250000</td><td>3</td><td> 750000</td><td>3</td></tr>\n",
              "\t<tr><td>4 </td><td>Fajar  </td><td>1</td><td> 400000</td><td>A</td><td>100000</td><td>2</td><td> 200000</td><td>3</td></tr>\n",
              "\t<tr><td>5 </td><td>Ika    </td><td>2</td><td>1200000</td><td>D</td><td>250000</td><td>4</td><td>1000000</td><td>2</td></tr>\n",
              "\t<tr><td>6 </td><td>Ilham  </td><td>1</td><td> 800000</td><td>B</td><td>150000</td><td>4</td><td> 600000</td><td>3</td></tr>\n",
              "\t<tr><td>7 </td><td>Indra  </td><td>1</td><td> 950000</td><td>B</td><td>150000</td><td>5</td><td> 750000</td><td>1</td></tr>\n",
              "\t<tr><td>8 </td><td>Kartika</td><td>2</td><td>1100000</td><td>E</td><td>300000</td><td>3</td><td> 900000</td><td>3</td></tr>\n",
              "\t<tr><td>9 </td><td>Lestari</td><td>2</td><td> 800000</td><td>E</td><td>300000</td><td>2</td><td> 600000</td><td>1</td></tr>\n",
              "\t<tr><td>10</td><td>Lia    </td><td>2</td><td>1700000</td><td>E</td><td>300000</td><td>5</td><td>1500000</td><td>1</td></tr>\n",
              "\t<tr><td>11</td><td>Maria  </td><td>2</td><td> 600000</td><td>A</td><td>100000</td><td>4</td><td> 400000</td><td>3</td></tr>\n",
              "\t<tr><td>12</td><td>Maya   </td><td>2</td><td> 950000</td><td>B</td><td>150000</td><td>5</td><td> 750000</td><td>3</td></tr>\n",
              "\t<tr><td>13</td><td>Mila   </td><td>2</td><td> 400000</td><td>C</td><td>200000</td><td>1</td><td> 200000</td><td>2</td></tr>\n",
              "\t<tr><td>14</td><td>Nurul  </td><td>2</td><td>6450000</td><td>D</td><td>250000</td><td>5</td><td>1250000</td><td>1</td></tr>\n",
              "\t<tr><td>15</td><td>Retno  </td><td>2</td><td>1000000</td><td>C</td><td>200000</td><td>4</td><td> 800000</td><td>2</td></tr>\n",
              "\t<tr><td>16</td><td>Rini   </td><td>2</td><td> 800000</td><td>B</td><td>150000</td><td>4</td><td> 600000</td><td>1</td></tr>\n",
              "\t<tr><td>17</td><td>Rizki  </td><td>1</td><td>1200000</td><td>C</td><td>200000</td><td>5</td><td>1000000</td><td>3</td></tr>\n",
              "\t<tr><td>18</td><td>Sari   </td><td>2</td><td> 700000</td><td>D</td><td>250000</td><td>2</td><td> 500000</td><td>1</td></tr>\n",
              "\t<tr><td>19</td><td>Tyas   </td><td>2</td><td> 600000</td><td>A</td><td>100000</td><td>4</td><td> 400000</td><td>3</td></tr>\n",
              "\t<tr><td>20</td><td>Wahyu  </td><td>1</td><td> 800000</td><td>C</td><td>200000</td><td>3</td><td> 600000</td><td>1</td></tr>\n",
              "</tbody>\n",
              "</table>\n"
            ]
          },
          "metadata": {
            "tags": []
          }
        },
        {
          "output_type": "stream",
          "text": [
            "'data.frame':\t20 obs. of  9 variables:\n",
            " $ ID.Pelanggan    : chr  \"1\" \"2\" \"3\" \"4\" ...\n",
            " $ Nama            : chr  \"Arif\" \"Dian\" \"Dinda\" \"Fajar\" ...\n",
            " $ Jenis.Kelamin   : Factor w/ 2 levels \"1\",\"2\": 1 2 2 1 2 1 1 2 2 2 ...\n",
            " $ Pendapatan      : int  600000 1200000 950000 400000 1200000 800000 950000 1100000 800000 1700000 ...\n",
            " $ Produk          : Factor w/ 5 levels \"A\",\"B\",\"C\",\"D\",..: 1 4 4 1 4 2 2 5 5 5 ...\n",
            " $ Harga           : int  100000 250000 250000 100000 250000 150000 150000 300000 300000 300000 ...\n",
            " $ Jumlah          : int  4 4 3 2 4 4 5 3 2 5 ...\n",
            " $ Total           : int  400000 1000000 750000 200000 1000000 600000 750000 900000 600000 1500000 ...\n",
            " $ Tingkat.Kepuasan: Factor w/ 3 levels \"1\",\"2\",\"3\": 2 2 3 3 2 3 1 3 1 1 ...\n"
          ],
          "name": "stdout"
        }
      ]
    },
    {
      "cell_type": "code",
      "metadata": {
        "colab": {
          "base_uri": "https://localhost:8080/",
          "height": 50
        },
        "id": "lDGzxqu1t0F7",
        "outputId": "e8a00ac6-fd3d-42b4-8cdb-e827e9a2f7e7"
      },
      "source": [
        "\n",
        "library(pracma)\n",
        "## carilah modus untuk kolom Produk pada variable data_intro\n",
        "Mode(data_intro$Produk)\n",
        "## carilah modus untuk kolom Tingkat.Kepuasan pada variable data_intro\n",
        "Mode(data_intro$Tingkat.Kepuasan)"
      ],
      "execution_count": 8,
      "outputs": [
        {
          "output_type": "display_data",
          "data": {
            "text/plain": [
              "[1] \"D\""
            ],
            "text/latex": "'D'",
            "text/markdown": "'D'",
            "text/html": [
              "'D'"
            ]
          },
          "metadata": {
            "tags": []
          }
        },
        {
          "output_type": "display_data",
          "data": {
            "text/plain": [
              "[1] \"3\""
            ],
            "text/latex": "'3'",
            "text/markdown": "'3'",
            "text/html": [
              "'3'"
            ]
          },
          "metadata": {
            "tags": []
          }
        }
      ]
    },
    {
      "cell_type": "code",
      "metadata": {
        "colab": {
          "base_uri": "https://localhost:8080/",
          "height": 84
        },
        "id": "ANAxtLM0uli_",
        "outputId": "fe90d6a9-38a8-4ada-c3f3-e867ee85464a"
      },
      "source": [
        "## carilah median untuk kolom Pendapatan dari variable data_intro\n",
        "median(data_intro$Pendapatan)\n",
        "\n",
        "## carilah median untuk  kolom Harga dari variable data_intro\n",
        "median(data_intro$Harga)\n",
        "\n",
        "## carilah median untuk kolom Jumlah dari variable data_intro\n",
        "median(data_intro$Jumlah)\n",
        "\n",
        "## carilah median untuk  kolom Total dari variable data_intro\n",
        "median(data_intro$Total)"
      ],
      "execution_count": 9,
      "outputs": [
        {
          "output_type": "display_data",
          "data": {
            "text/plain": [
              "[1] 875000"
            ],
            "text/latex": "875000",
            "text/markdown": "875000",
            "text/html": [
              "875000"
            ]
          },
          "metadata": {
            "tags": []
          }
        },
        {
          "output_type": "display_data",
          "data": {
            "text/plain": [
              "[1] 2e+05"
            ],
            "text/latex": "2e+05",
            "text/markdown": "2e+05",
            "text/html": [
              "2e+05"
            ]
          },
          "metadata": {
            "tags": []
          }
        },
        {
          "output_type": "display_data",
          "data": {
            "text/plain": [
              "[1] 4"
            ],
            "text/latex": "4",
            "text/markdown": "4",
            "text/html": [
              "4"
            ]
          },
          "metadata": {
            "tags": []
          }
        },
        {
          "output_type": "display_data",
          "data": {
            "text/plain": [
              "[1] 675000"
            ],
            "text/latex": "675000",
            "text/markdown": "675000",
            "text/html": [
              "675000"
            ]
          },
          "metadata": {
            "tags": []
          }
        }
      ]
    },
    {
      "cell_type": "code",
      "metadata": {
        "colab": {
          "base_uri": "https://localhost:8080/",
          "height": 84
        },
        "id": "_OQNEcG8vnyc",
        "outputId": "c5468836-8bf7-4813-aefe-5a3eda068db6"
      },
      "source": [
        "## carilah mean untuk kolom Pendapatan pada variable data_intro\n",
        "mean(data_intro$Pendapatan)\n",
        "## carilah mean untuk kolom Harga pada variable data_intro\n",
        "mean(data_intro$Harga)\n",
        "## carilah mean untuk kolom Jumlah pada variable data_intro\n",
        "mean(data_intro$Jumlah)\n",
        "## carilah mean untuk kolom Total pada variable data_intro\n",
        "mean(data_intro$Total)"
      ],
      "execution_count": 10,
      "outputs": [
        {
          "output_type": "display_data",
          "data": {
            "text/plain": [
              "[1] 1160000"
            ],
            "text/latex": "1160000",
            "text/markdown": "1160000",
            "text/html": [
              "1160000"
            ]
          },
          "metadata": {
            "tags": []
          }
        },
        {
          "output_type": "display_data",
          "data": {
            "text/plain": [
              "[1] 197500"
            ],
            "text/latex": "197500",
            "text/markdown": "197500",
            "text/html": [
              "197500"
            ]
          },
          "metadata": {
            "tags": []
          }
        },
        {
          "output_type": "display_data",
          "data": {
            "text/plain": [
              "[1] 3.65"
            ],
            "text/latex": "3.65",
            "text/markdown": "3.65",
            "text/html": [
              "3.65"
            ]
          },
          "metadata": {
            "tags": []
          }
        },
        {
          "output_type": "display_data",
          "data": {
            "text/plain": [
              "[1] 710000"
            ],
            "text/latex": "710000",
            "text/markdown": "710000",
            "text/html": [
              "710000"
            ]
          },
          "metadata": {
            "tags": []
          }
        }
      ]
    }
  ]
}