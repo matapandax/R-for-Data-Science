{
  "nbformat": 4,
  "nbformat_minor": 0,
  "metadata": {
    "colab": {
      "name": "Statistics using R for Data Science.ipynb",
      "provenance": [],
      "authorship_tag": "ABX9TyPyMiNe1E/S17OaeQO8qqhC",
      "include_colab_link": true
    },
    "kernelspec": {
      "name": "ir",
      "display_name": "R"
    },
    "language_info": {
      "name": "R"
    }
  },
  "cells": [
    {
      "cell_type": "markdown",
      "metadata": {
        "id": "view-in-github",
        "colab_type": "text"
      },
      "source": [
        "<a href=\"https://colab.research.google.com/github/matapandax/R-for-Data-Science/blob/main/Statistics_using_R_for_Data_Science.ipynb\" target=\"_parent\"><img src=\"https://colab.research.google.com/assets/colab-badge.svg\" alt=\"Open In Colab\"/></a>"
      ]
    },
    {
      "cell_type": "code",
      "metadata": {
        "colab": {
          "base_uri": "https://localhost:8080/"
        },
        "id": "_l3-0LOftELR",
        "outputId": "b8d115aa-f628-49f6-d1b2-deef6e70647a"
      },
      "source": [
        "#Membaca dataset dengan read.csv dan dimasukkan ke variable data_intro\n",
        "data_intro <- read.csv(\"https://storage.googleapis.com/dqlab-dataset/data_intro.csv\",sep=\";\")\n",
        "str(data_intro)\n"
      ],
      "execution_count": 1,
      "outputs": [
        {
          "output_type": "stream",
          "text": [
            "'data.frame':\t20 obs. of  9 variables:\n",
            " $ ID.Pelanggan    : int  1 2 3 4 5 6 7 8 9 10 ...\n",
            " $ Nama            : chr  \"Arif\" \"Dian\" \"Dinda\" \"Fajar\" ...\n",
            " $ Jenis.Kelamin   : int  1 2 2 1 2 1 1 2 2 2 ...\n",
            " $ Pendapatan      : int  600000 1200000 950000 400000 1200000 800000 950000 1100000 800000 1700000 ...\n",
            " $ Produk          : chr  \"A\" \"D\" \"D\" \"A\" ...\n",
            " $ Harga           : int  100000 250000 250000 100000 250000 150000 150000 300000 300000 300000 ...\n",
            " $ Jumlah          : int  4 4 3 2 4 4 5 3 2 5 ...\n",
            " $ Total           : int  400000 1000000 750000 200000 1000000 600000 750000 900000 600000 1500000 ...\n",
            " $ Tingkat.Kepuasan: int  2 2 3 3 2 3 1 3 1 1 ...\n"
          ],
          "name": "stdout"
        }
      ]
    },
    {
      "cell_type": "code",
      "metadata": {
        "colab": {
          "base_uri": "https://localhost:8080/"
        },
        "id": "5NziO_x4tYaP",
        "outputId": "30c28981-6a53-4948-c4fa-202c379c84f7"
      },
      "source": [
        "## mengubah data menjadi karakter karena tidak dilakukan analisis statistik pada variabel ID Pelanggan dan nama\n",
        "data_intro$ID.Pelanggan <-as.character(data_intro$ID.Pelanggan)\n",
        "data_intro$Nama <-as.character(data_intro$Nama)\n",
        "## melihat apakah sudah berhasil dalam mengubah variabel tersebut\n",
        "str(data_intro$ID.Pelanggan)\n",
        " str(data_intro$Nama)"
      ],
      "execution_count": 2,
      "outputs": [
        {
          "output_type": "stream",
          "text": [
            " chr [1:20] \"1\" \"2\" \"3\" \"4\" \"5\" \"6\" \"7\" \"8\" \"9\" \"10\" \"11\" \"12\" \"13\" \"14\" ...\n",
            " chr [1:20] \"Arif\" \"Dian\" \"Dinda\" \"Fajar\" \"Ika\" \"Ilham\" \"Indra\" \"Kartika\" ...\n"
          ],
          "name": "stdout"
        }
      ]
    },
    {
      "cell_type": "code",
      "metadata": {
        "colab": {
          "base_uri": "https://localhost:8080/"
        },
        "id": "9-ZVSKNJtq3z",
        "outputId": "420bb900-fa63-4608-b80e-0fb15810f03d"
      },
      "source": [
        "## Mengubah data menjadi factor untuk membedakan data kualitatif dengan menggunakan functon as.factor\n",
        "data_intro$Jenis.Kelamin <- as.factor(data_intro$Jenis.Kelamin)\n",
        "\n",
        "data_intro$Produk <- as.factor(data_intro$Produk)\n",
        "\n",
        "data_intro$Tingkat.Kepuasan <- as.factor(data_intro$Tingkat.Kepuasan)\n",
        "## Melihat apakah sudah berhasil dalam mengubah variabel tersebut dengan menggunakan function str\n",
        "str(data_intro$Jenis.Kelamin)\n",
        "str(data_intro$Produk)\n",
        "str(data_intro$Tingkat.Kepuasan)"
      ],
      "execution_count": 3,
      "outputs": [
        {
          "output_type": "stream",
          "text": [
            " Factor w/ 2 levels \"1\",\"2\": 1 2 2 1 2 1 1 2 2 2 ...\n",
            " Factor w/ 5 levels \"A\",\"B\",\"C\",\"D\",..: 1 4 4 1 4 2 2 5 5 5 ...\n",
            " Factor w/ 3 levels \"1\",\"2\",\"3\": 2 2 3 3 2 3 1 3 1 1 ...\n"
          ],
          "name": "stdout"
        }
      ]
    },
    {
      "cell_type": "code",
      "metadata": {
        "colab": {
          "base_uri": "https://localhost:8080/",
          "height": 881
        },
        "id": "qNpgefN6tse4",
        "outputId": "63c8a70a-0f91-448a-c325-e78347e0ba8f"
      },
      "source": [
        "# melihat data/ pemanggilan data\n",
        "data_intro\n",
        "# melihat tipe data\n",
        "str(data_intro)"
      ],
      "execution_count": 4,
      "outputs": [
        {
          "output_type": "display_data",
          "data": {
            "text/plain": [
              "   ID.Pelanggan Nama    Jenis.Kelamin Pendapatan Produk Harga  Jumlah Total  \n",
              "1  1            Arif    1              600000    A      100000 4       400000\n",
              "2  2            Dian    2             1200000    D      250000 4      1000000\n",
              "3  3            Dinda   2              950000    D      250000 3       750000\n",
              "4  4            Fajar   1              400000    A      100000 2       200000\n",
              "5  5            Ika     2             1200000    D      250000 4      1000000\n",
              "6  6            Ilham   1              800000    B      150000 4       600000\n",
              "7  7            Indra   1              950000    B      150000 5       750000\n",
              "8  8            Kartika 2             1100000    E      300000 3       900000\n",
              "9  9            Lestari 2              800000    E      300000 2       600000\n",
              "10 10           Lia     2             1700000    E      300000 5      1500000\n",
              "11 11           Maria   2              600000    A      100000 4       400000\n",
              "12 12           Maya    2              950000    B      150000 5       750000\n",
              "13 13           Mila    2              400000    C      200000 1       200000\n",
              "14 14           Nurul   2             6450000    D      250000 5      1250000\n",
              "15 15           Retno   2             1000000    C      200000 4       800000\n",
              "16 16           Rini    2              800000    B      150000 4       600000\n",
              "17 17           Rizki   1             1200000    C      200000 5      1000000\n",
              "18 18           Sari    2              700000    D      250000 2       500000\n",
              "19 19           Tyas    2              600000    A      100000 4       400000\n",
              "20 20           Wahyu   1              800000    C      200000 3       600000\n",
              "   Tingkat.Kepuasan\n",
              "1  2               \n",
              "2  2               \n",
              "3  3               \n",
              "4  3               \n",
              "5  2               \n",
              "6  3               \n",
              "7  1               \n",
              "8  3               \n",
              "9  1               \n",
              "10 1               \n",
              "11 3               \n",
              "12 3               \n",
              "13 2               \n",
              "14 1               \n",
              "15 2               \n",
              "16 1               \n",
              "17 3               \n",
              "18 1               \n",
              "19 3               \n",
              "20 1               "
            ],
            "text/latex": "A data.frame: 20 × 9\n\\begin{tabular}{lllllllll}\n ID.Pelanggan & Nama & Jenis.Kelamin & Pendapatan & Produk & Harga & Jumlah & Total & Tingkat.Kepuasan\\\\\n <chr> & <chr> & <fct> & <int> & <fct> & <int> & <int> & <int> & <fct>\\\\\n\\hline\n\t 1  & Arif    & 1 &  600000 & A & 100000 & 4 &  400000 & 2\\\\\n\t 2  & Dian    & 2 & 1200000 & D & 250000 & 4 & 1000000 & 2\\\\\n\t 3  & Dinda   & 2 &  950000 & D & 250000 & 3 &  750000 & 3\\\\\n\t 4  & Fajar   & 1 &  400000 & A & 100000 & 2 &  200000 & 3\\\\\n\t 5  & Ika     & 2 & 1200000 & D & 250000 & 4 & 1000000 & 2\\\\\n\t 6  & Ilham   & 1 &  800000 & B & 150000 & 4 &  600000 & 3\\\\\n\t 7  & Indra   & 1 &  950000 & B & 150000 & 5 &  750000 & 1\\\\\n\t 8  & Kartika & 2 & 1100000 & E & 300000 & 3 &  900000 & 3\\\\\n\t 9  & Lestari & 2 &  800000 & E & 300000 & 2 &  600000 & 1\\\\\n\t 10 & Lia     & 2 & 1700000 & E & 300000 & 5 & 1500000 & 1\\\\\n\t 11 & Maria   & 2 &  600000 & A & 100000 & 4 &  400000 & 3\\\\\n\t 12 & Maya    & 2 &  950000 & B & 150000 & 5 &  750000 & 3\\\\\n\t 13 & Mila    & 2 &  400000 & C & 200000 & 1 &  200000 & 2\\\\\n\t 14 & Nurul   & 2 & 6450000 & D & 250000 & 5 & 1250000 & 1\\\\\n\t 15 & Retno   & 2 & 1000000 & C & 200000 & 4 &  800000 & 2\\\\\n\t 16 & Rini    & 2 &  800000 & B & 150000 & 4 &  600000 & 1\\\\\n\t 17 & Rizki   & 1 & 1200000 & C & 200000 & 5 & 1000000 & 3\\\\\n\t 18 & Sari    & 2 &  700000 & D & 250000 & 2 &  500000 & 1\\\\\n\t 19 & Tyas    & 2 &  600000 & A & 100000 & 4 &  400000 & 3\\\\\n\t 20 & Wahyu   & 1 &  800000 & C & 200000 & 3 &  600000 & 1\\\\\n\\end{tabular}\n",
            "text/markdown": "\nA data.frame: 20 × 9\n\n| ID.Pelanggan &lt;chr&gt; | Nama &lt;chr&gt; | Jenis.Kelamin &lt;fct&gt; | Pendapatan &lt;int&gt; | Produk &lt;fct&gt; | Harga &lt;int&gt; | Jumlah &lt;int&gt; | Total &lt;int&gt; | Tingkat.Kepuasan &lt;fct&gt; |\n|---|---|---|---|---|---|---|---|---|\n| 1  | Arif    | 1 |  600000 | A | 100000 | 4 |  400000 | 2 |\n| 2  | Dian    | 2 | 1200000 | D | 250000 | 4 | 1000000 | 2 |\n| 3  | Dinda   | 2 |  950000 | D | 250000 | 3 |  750000 | 3 |\n| 4  | Fajar   | 1 |  400000 | A | 100000 | 2 |  200000 | 3 |\n| 5  | Ika     | 2 | 1200000 | D | 250000 | 4 | 1000000 | 2 |\n| 6  | Ilham   | 1 |  800000 | B | 150000 | 4 |  600000 | 3 |\n| 7  | Indra   | 1 |  950000 | B | 150000 | 5 |  750000 | 1 |\n| 8  | Kartika | 2 | 1100000 | E | 300000 | 3 |  900000 | 3 |\n| 9  | Lestari | 2 |  800000 | E | 300000 | 2 |  600000 | 1 |\n| 10 | Lia     | 2 | 1700000 | E | 300000 | 5 | 1500000 | 1 |\n| 11 | Maria   | 2 |  600000 | A | 100000 | 4 |  400000 | 3 |\n| 12 | Maya    | 2 |  950000 | B | 150000 | 5 |  750000 | 3 |\n| 13 | Mila    | 2 |  400000 | C | 200000 | 1 |  200000 | 2 |\n| 14 | Nurul   | 2 | 6450000 | D | 250000 | 5 | 1250000 | 1 |\n| 15 | Retno   | 2 | 1000000 | C | 200000 | 4 |  800000 | 2 |\n| 16 | Rini    | 2 |  800000 | B | 150000 | 4 |  600000 | 1 |\n| 17 | Rizki   | 1 | 1200000 | C | 200000 | 5 | 1000000 | 3 |\n| 18 | Sari    | 2 |  700000 | D | 250000 | 2 |  500000 | 1 |\n| 19 | Tyas    | 2 |  600000 | A | 100000 | 4 |  400000 | 3 |\n| 20 | Wahyu   | 1 |  800000 | C | 200000 | 3 |  600000 | 1 |\n\n",
            "text/html": [
              "<table class=\"dataframe\">\n",
              "<caption>A data.frame: 20 × 9</caption>\n",
              "<thead>\n",
              "\t<tr><th scope=col>ID.Pelanggan</th><th scope=col>Nama</th><th scope=col>Jenis.Kelamin</th><th scope=col>Pendapatan</th><th scope=col>Produk</th><th scope=col>Harga</th><th scope=col>Jumlah</th><th scope=col>Total</th><th scope=col>Tingkat.Kepuasan</th></tr>\n",
              "\t<tr><th scope=col>&lt;chr&gt;</th><th scope=col>&lt;chr&gt;</th><th scope=col>&lt;fct&gt;</th><th scope=col>&lt;int&gt;</th><th scope=col>&lt;fct&gt;</th><th scope=col>&lt;int&gt;</th><th scope=col>&lt;int&gt;</th><th scope=col>&lt;int&gt;</th><th scope=col>&lt;fct&gt;</th></tr>\n",
              "</thead>\n",
              "<tbody>\n",
              "\t<tr><td>1 </td><td>Arif   </td><td>1</td><td> 600000</td><td>A</td><td>100000</td><td>4</td><td> 400000</td><td>2</td></tr>\n",
              "\t<tr><td>2 </td><td>Dian   </td><td>2</td><td>1200000</td><td>D</td><td>250000</td><td>4</td><td>1000000</td><td>2</td></tr>\n",
              "\t<tr><td>3 </td><td>Dinda  </td><td>2</td><td> 950000</td><td>D</td><td>250000</td><td>3</td><td> 750000</td><td>3</td></tr>\n",
              "\t<tr><td>4 </td><td>Fajar  </td><td>1</td><td> 400000</td><td>A</td><td>100000</td><td>2</td><td> 200000</td><td>3</td></tr>\n",
              "\t<tr><td>5 </td><td>Ika    </td><td>2</td><td>1200000</td><td>D</td><td>250000</td><td>4</td><td>1000000</td><td>2</td></tr>\n",
              "\t<tr><td>6 </td><td>Ilham  </td><td>1</td><td> 800000</td><td>B</td><td>150000</td><td>4</td><td> 600000</td><td>3</td></tr>\n",
              "\t<tr><td>7 </td><td>Indra  </td><td>1</td><td> 950000</td><td>B</td><td>150000</td><td>5</td><td> 750000</td><td>1</td></tr>\n",
              "\t<tr><td>8 </td><td>Kartika</td><td>2</td><td>1100000</td><td>E</td><td>300000</td><td>3</td><td> 900000</td><td>3</td></tr>\n",
              "\t<tr><td>9 </td><td>Lestari</td><td>2</td><td> 800000</td><td>E</td><td>300000</td><td>2</td><td> 600000</td><td>1</td></tr>\n",
              "\t<tr><td>10</td><td>Lia    </td><td>2</td><td>1700000</td><td>E</td><td>300000</td><td>5</td><td>1500000</td><td>1</td></tr>\n",
              "\t<tr><td>11</td><td>Maria  </td><td>2</td><td> 600000</td><td>A</td><td>100000</td><td>4</td><td> 400000</td><td>3</td></tr>\n",
              "\t<tr><td>12</td><td>Maya   </td><td>2</td><td> 950000</td><td>B</td><td>150000</td><td>5</td><td> 750000</td><td>3</td></tr>\n",
              "\t<tr><td>13</td><td>Mila   </td><td>2</td><td> 400000</td><td>C</td><td>200000</td><td>1</td><td> 200000</td><td>2</td></tr>\n",
              "\t<tr><td>14</td><td>Nurul  </td><td>2</td><td>6450000</td><td>D</td><td>250000</td><td>5</td><td>1250000</td><td>1</td></tr>\n",
              "\t<tr><td>15</td><td>Retno  </td><td>2</td><td>1000000</td><td>C</td><td>200000</td><td>4</td><td> 800000</td><td>2</td></tr>\n",
              "\t<tr><td>16</td><td>Rini   </td><td>2</td><td> 800000</td><td>B</td><td>150000</td><td>4</td><td> 600000</td><td>1</td></tr>\n",
              "\t<tr><td>17</td><td>Rizki  </td><td>1</td><td>1200000</td><td>C</td><td>200000</td><td>5</td><td>1000000</td><td>3</td></tr>\n",
              "\t<tr><td>18</td><td>Sari   </td><td>2</td><td> 700000</td><td>D</td><td>250000</td><td>2</td><td> 500000</td><td>1</td></tr>\n",
              "\t<tr><td>19</td><td>Tyas   </td><td>2</td><td> 600000</td><td>A</td><td>100000</td><td>4</td><td> 400000</td><td>3</td></tr>\n",
              "\t<tr><td>20</td><td>Wahyu  </td><td>1</td><td> 800000</td><td>C</td><td>200000</td><td>3</td><td> 600000</td><td>1</td></tr>\n",
              "</tbody>\n",
              "</table>\n"
            ]
          },
          "metadata": {
            "tags": []
          }
        },
        {
          "output_type": "stream",
          "text": [
            "'data.frame':\t20 obs. of  9 variables:\n",
            " $ ID.Pelanggan    : chr  \"1\" \"2\" \"3\" \"4\" ...\n",
            " $ Nama            : chr  \"Arif\" \"Dian\" \"Dinda\" \"Fajar\" ...\n",
            " $ Jenis.Kelamin   : Factor w/ 2 levels \"1\",\"2\": 1 2 2 1 2 1 1 2 2 2 ...\n",
            " $ Pendapatan      : int  600000 1200000 950000 400000 1200000 800000 950000 1100000 800000 1700000 ...\n",
            " $ Produk          : Factor w/ 5 levels \"A\",\"B\",\"C\",\"D\",..: 1 4 4 1 4 2 2 5 5 5 ...\n",
            " $ Harga           : int  100000 250000 250000 100000 250000 150000 150000 300000 300000 300000 ...\n",
            " $ Jumlah          : int  4 4 3 2 4 4 5 3 2 5 ...\n",
            " $ Total           : int  400000 1000000 750000 200000 1000000 600000 750000 900000 600000 1500000 ...\n",
            " $ Tingkat.Kepuasan: Factor w/ 3 levels \"1\",\"2\",\"3\": 2 2 3 3 2 3 1 3 1 1 ...\n"
          ],
          "name": "stdout"
        }
      ]
    },
    {
      "cell_type": "code",
      "metadata": {
        "colab": {
          "base_uri": "https://localhost:8080/",
          "height": 50
        },
        "id": "lDGzxqu1t0F7",
        "outputId": "e8a00ac6-fd3d-42b4-8cdb-e827e9a2f7e7"
      },
      "source": [
        "\n",
        "library(pracma)\n",
        "## carilah modus untuk kolom Produk pada variable data_intro\n",
        "Mode(data_intro$Produk)\n",
        "## carilah modus untuk kolom Tingkat.Kepuasan pada variable data_intro\n",
        "Mode(data_intro$Tingkat.Kepuasan)"
      ],
      "execution_count": 8,
      "outputs": [
        {
          "output_type": "display_data",
          "data": {
            "text/plain": [
              "[1] \"D\""
            ],
            "text/latex": "'D'",
            "text/markdown": "'D'",
            "text/html": [
              "'D'"
            ]
          },
          "metadata": {
            "tags": []
          }
        },
        {
          "output_type": "display_data",
          "data": {
            "text/plain": [
              "[1] \"3\""
            ],
            "text/latex": "'3'",
            "text/markdown": "'3'",
            "text/html": [
              "'3'"
            ]
          },
          "metadata": {
            "tags": []
          }
        }
      ]
    },
    {
      "cell_type": "code",
      "metadata": {
        "colab": {
          "base_uri": "https://localhost:8080/",
          "height": 84
        },
        "id": "ANAxtLM0uli_",
        "outputId": "fe90d6a9-38a8-4ada-c3f3-e867ee85464a"
      },
      "source": [
        "## carilah median untuk kolom Pendapatan dari variable data_intro\n",
        "median(data_intro$Pendapatan)\n",
        "\n",
        "## carilah median untuk  kolom Harga dari variable data_intro\n",
        "median(data_intro$Harga)\n",
        "\n",
        "## carilah median untuk kolom Jumlah dari variable data_intro\n",
        "median(data_intro$Jumlah)\n",
        "\n",
        "## carilah median untuk  kolom Total dari variable data_intro\n",
        "median(data_intro$Total)"
      ],
      "execution_count": 9,
      "outputs": [
        {
          "output_type": "display_data",
          "data": {
            "text/plain": [
              "[1] 875000"
            ],
            "text/latex": "875000",
            "text/markdown": "875000",
            "text/html": [
              "875000"
            ]
          },
          "metadata": {
            "tags": []
          }
        },
        {
          "output_type": "display_data",
          "data": {
            "text/plain": [
              "[1] 2e+05"
            ],
            "text/latex": "2e+05",
            "text/markdown": "2e+05",
            "text/html": [
              "2e+05"
            ]
          },
          "metadata": {
            "tags": []
          }
        },
        {
          "output_type": "display_data",
          "data": {
            "text/plain": [
              "[1] 4"
            ],
            "text/latex": "4",
            "text/markdown": "4",
            "text/html": [
              "4"
            ]
          },
          "metadata": {
            "tags": []
          }
        },
        {
          "output_type": "display_data",
          "data": {
            "text/plain": [
              "[1] 675000"
            ],
            "text/latex": "675000",
            "text/markdown": "675000",
            "text/html": [
              "675000"
            ]
          },
          "metadata": {
            "tags": []
          }
        }
      ]
    },
    {
      "cell_type": "code",
      "metadata": {
        "colab": {
          "base_uri": "https://localhost:8080/",
          "height": 84
        },
        "id": "_OQNEcG8vnyc",
        "outputId": "c5468836-8bf7-4813-aefe-5a3eda068db6"
      },
      "source": [
        "## carilah mean untuk kolom Pendapatan pada variable data_intro\n",
        "mean(data_intro$Pendapatan)\n",
        "## carilah mean untuk kolom Harga pada variable data_intro\n",
        "mean(data_intro$Harga)\n",
        "## carilah mean untuk kolom Jumlah pada variable data_intro\n",
        "mean(data_intro$Jumlah)\n",
        "## carilah mean untuk kolom Total pada variable data_intro\n",
        "mean(data_intro$Total)"
      ],
      "execution_count": 10,
      "outputs": [
        {
          "output_type": "display_data",
          "data": {
            "text/plain": [
              "[1] 1160000"
            ],
            "text/latex": "1160000",
            "text/markdown": "1160000",
            "text/html": [
              "1160000"
            ]
          },
          "metadata": {
            "tags": []
          }
        },
        {
          "output_type": "display_data",
          "data": {
            "text/plain": [
              "[1] 197500"
            ],
            "text/latex": "197500",
            "text/markdown": "197500",
            "text/html": [
              "197500"
            ]
          },
          "metadata": {
            "tags": []
          }
        },
        {
          "output_type": "display_data",
          "data": {
            "text/plain": [
              "[1] 3.65"
            ],
            "text/latex": "3.65",
            "text/markdown": "3.65",
            "text/html": [
              "3.65"
            ]
          },
          "metadata": {
            "tags": []
          }
        },
        {
          "output_type": "display_data",
          "data": {
            "text/plain": [
              "[1] 710000"
            ],
            "text/latex": "710000",
            "text/markdown": "710000",
            "text/html": [
              "710000"
            ]
          },
          "metadata": {
            "tags": []
          }
        }
      ]
    },
    {
      "cell_type": "code",
      "metadata": {
        "colab": {
          "base_uri": "https://localhost:8080/",
          "height": 34
        },
        "id": "zlrS-RbByJcA",
        "outputId": "72bedbd6-d3b8-4932-e27a-484d649efcf4"
      },
      "source": [
        "## carilah range untuk kolom Pendapatan pada variable data_intro\n",
        "max(data_intro$Pendapatan)-min(data_intro$Pendapatan)"
      ],
      "execution_count": 11,
      "outputs": [
        {
          "output_type": "display_data",
          "data": {
            "text/plain": [
              "[1] 6050000"
            ],
            "text/latex": "6050000",
            "text/markdown": "6050000",
            "text/html": [
              "6050000"
            ]
          },
          "metadata": {
            "tags": []
          }
        }
      ]
    },
    {
      "cell_type": "code",
      "metadata": {
        "colab": {
          "base_uri": "https://localhost:8080/",
          "height": 34
        },
        "id": "KKpJ2svQyRo_",
        "outputId": "3f130b3c-757a-4b47-fcc7-590effb9b953"
      },
      "source": [
        "## Carilah varians untuk kolom Pendapatan dari variable data_intro\n",
        "var(data_intro$Pendapatan)\n"
      ],
      "execution_count": 12,
      "outputs": [
        {
          "output_type": "display_data",
          "data": {
            "text/plain": [
              "[1] 1.645684e+12"
            ],
            "text/latex": "1645684210526.32",
            "text/markdown": "1645684210526.32",
            "text/html": [
              "1645684210526.32"
            ]
          },
          "metadata": {
            "tags": []
          }
        }
      ]
    },
    {
      "cell_type": "code",
      "metadata": {
        "colab": {
          "base_uri": "https://localhost:8080/",
          "height": 34
        },
        "id": "MYFZQofNybvb",
        "outputId": "6aecf579-0234-435d-c013-c0b2a57b7a61"
      },
      "source": [
        "## Carilah simpangan baku untuk kolom Pendapatan dari variable data_intro\n",
        "sd(data_intro$Jumlah)\n"
      ],
      "execution_count": 13,
      "outputs": [
        {
          "output_type": "display_data",
          "data": {
            "text/plain": [
              "[1] 1.182103"
            ],
            "text/latex": "1.18210338847862",
            "text/markdown": "1.18210338847862",
            "text/html": [
              "1.18210338847862"
            ]
          },
          "metadata": {
            "tags": []
          }
        }
      ]
    },
    {
      "cell_type": "code",
      "metadata": {
        "colab": {
          "base_uri": "https://localhost:8080/",
          "height": 252
        },
        "id": "v3qJ8B76yy9g",
        "outputId": "8ce011f4-d23f-4f4a-9502-9ab444238edd"
      },
      "source": [
        "## carilah summary data dari data_intro\n",
        "summary(data_intro)"
      ],
      "execution_count": 14,
      "outputs": [
        {
          "output_type": "display_data",
          "data": {
            "text/plain": [
              " ID.Pelanggan           Nama           Jenis.Kelamin   Pendapatan      Produk\n",
              " Length:20          Length:20          1: 6          Min.   : 400000   A:4   \n",
              " Class :character   Class :character   2:14          1st Qu.: 675000   B:4   \n",
              " Mode  :character   Mode  :character                 Median : 875000   C:4   \n",
              "                                                     Mean   :1160000   D:5   \n",
              "                                                     3rd Qu.:1125000   E:3   \n",
              "                                                     Max.   :6450000         \n",
              "     Harga            Jumlah         Total         Tingkat.Kepuasan\n",
              " Min.   :100000   Min.   :1.00   Min.   : 200000   1:7             \n",
              " 1st Qu.:150000   1st Qu.:3.00   1st Qu.: 475000   2:5             \n",
              " Median :200000   Median :4.00   Median : 675000   3:8             \n",
              " Mean   :197500   Mean   :3.65   Mean   : 710000                   \n",
              " 3rd Qu.:250000   3rd Qu.:4.25   3rd Qu.: 925000                   \n",
              " Max.   :300000   Max.   :5.00   Max.   :1500000                   "
            ]
          },
          "metadata": {
            "tags": []
          }
        }
      ]
    },
    {
      "cell_type": "code",
      "metadata": {
        "colab": {
          "base_uri": "https://localhost:8080/",
          "height": 1000
        },
        "id": "8ITmZjBoznz3",
        "outputId": "f5997b4d-6d83-4bfb-b165-6856f6033d8c"
      },
      "source": [
        "## Carilah sebaran data kolom Jenis.Kelamin dari variable data_intro\n",
        "plot(data_intro$Jenis.Kelamin)\n",
        "\n",
        "## Carilah sebaran data dari Pendapatan dari variable data_intro\n",
        "hist(data_intro$Pendapatan)\n",
        "\n",
        "## Carilah sebaran data dari Produk dari variable data_intro\n",
        "plot(data_intro$Produk)\n",
        "\n",
        "## Carilah sebaran data dari Harga dari variable data_intro\n",
        "hist(data_intro$Harga)\n",
        "\n",
        "## Carilah sebaran data dari Jumlah dari variable data_intro\n",
        "hist(data_intro$Jumlah)\n",
        "\n",
        "## Carilah sebaran data dari Total dari variable data_intro\n",
        "hist(data_intro$Total)\n",
        "\n",
        "## Carilah sebaran data dari Tingkat.Kepuasan dari variable data_intro\n",
        "plot(data_intro$Tingkat.Kepuasan)"
      ],
      "execution_count": 15,
      "outputs": [
        {
          "output_type": "display_data",
          "data": {
            "image/png": "[encoded data removed]",
            "text/plain": [
              "plot without title"
            ]
          },
          "metadata": {
            "tags": [],
            "image/png": {
              "width": 420,
              "height": 420
            }
          }
        },
        {
          "output_type": "display_data",
          "data": {
            "image/png": "[encoded data removed]",
            "text/plain": [
              "Plot with title “Histogram of data_intro$Pendapatan”"
            ]
          },
          "metadata": {
            "tags": [],
            "image/png": {
              "width": 420,
              "height": 420
            }
          }
        },
        {
          "output_type": "display_data",
          "data": {
            "image/png": "[encoded data removed]",
            "text/plain": [
              "plot without title"
            ]
          },
          "metadata": {
            "tags": [],
            "image/png": {
              "width": 420,
              "height": 420
            }
          }
        },
        {
          "output_type": "display_data",
          "data": {
            "image/png": "[encoded data removed]",
            "text/plain": [
              "Plot with title “Histogram of data_intro$Harga”"
            ]
          },
          "metadata": {
            "tags": [],
            "image/png": {
              "width": 420,
              "height": 420
            }
          }
        },
        {
          "output_type": "display_data",
          "data": {
            "image/png": "[encoded data removed]",
            "text/plain": [
              "Plot with title “Histogram of data_intro$Jumlah”"
            ]
          },
          "metadata": {
            "tags": [],
            "image/png": {
              "width": 420,
              "height": 420
            }
          }
        },
        {
          "output_type": "display_data",
          "data": {
            "image/png": "[encoded data removed]",
            "text/plain": [
              "Plot with title “Histogram of data_intro$Total”"
            ]
          },
          "metadata": {
            "tags": [],
            "image/png": {
              "width": 420,
              "height": 420
            }
          }
        },
        {
          "output_type": "display_data",
          "data": {
            "image/png": "[encoded data removed]",
            "text/plain": [
              "plot without title"
            ]
          },
          "metadata": {
            "tags": [],
            "image/png": {
              "width": 420,
              "height": 420
            }
          }
        }
      ]
    },
    {
      "cell_type": "code",
      "metadata": {
        "colab": {
          "base_uri": "https://localhost:8080/",
          "height": 437
        },
        "id": "XAQhYNpf0PS2",
        "outputId": "85db5696-b6ff-4188-a895-151d697652c9"
      },
      "source": [
        "plot(data_intro$Pendapatan,data_intro$Total)"
      ],
      "execution_count": 16,
      "outputs": [
        {
          "output_type": "display_data",
          "data": {
            "image/png": "[encoded data removed]",
            "text/plain": [
              "plot without title"
            ]
          },
          "metadata": {
            "tags": [],
            "image/png": {
              "width": 420,
              "height": 420
            }
          }
        }
      ]
    },
    {
      "cell_type": "code",
      "metadata": {
        "colab": {
          "base_uri": "https://localhost:8080/",
          "height": 202
        },
        "id": "9LYKlvZR0b00",
        "outputId": "bc33d0af-4f97-42bd-b77f-73cf0c83fbf7"
      },
      "source": [
        "#Gunakan cor.test untuk mencari hubungan Pendapatan dengan Total Belanja \n",
        "cor.test(data_intro$Pendapatan,data_intro$Total)"
      ],
      "execution_count": 17,
      "outputs": [
        {
          "output_type": "display_data",
          "data": {
            "text/plain": [
              "\n",
              "\tPearson's product-moment correlation\n",
              "\n",
              "data:  data_intro$Pendapatan and data_intro$Total\n",
              "t = 3.1168, df = 18, p-value = 0.005957\n",
              "alternative hypothesis: true correlation is not equal to 0\n",
              "95 percent confidence interval:\n",
              " 0.2026033 0.8197871\n",
              "sample estimates:\n",
              "      cor \n",
              "0.5920437 \n"
            ]
          },
          "metadata": {
            "tags": []
          }
        }
      ]
    },
    {
      "cell_type": "code",
      "metadata": {
        "colab": {
          "base_uri": "https://localhost:8080/",
          "height": 252
        },
        "id": "Wdl2kz_l0eSp",
        "outputId": "1b5e6c96-b3cf-481a-c034-2e87f150c9ed"
      },
      "source": [
        "## Carilah tabulasi silang antara kolom jenis produk (Produk) dan tingkat kepuasan (Tingkat.Kepuasan) dari variable data_intro\n",
        "table(data_intro$Produk,data_intro$Tingkat.Kepuasan)\n",
        "\n",
        "\n",
        "## Analisis bagaimana hubungan jenis produk dengan tingkat kepuasan mengunakan uji korelasi\n",
        "chisq.test(table(data_intro$Produk,data_intro$Tingkat.Kepuasan))"
      ],
      "execution_count": 18,
      "outputs": [
        {
          "output_type": "display_data",
          "data": {
            "text/plain": [
              "   \n",
              "    1 2 3\n",
              "  A 0 1 3\n",
              "  B 2 0 2\n",
              "  C 1 2 1\n",
              "  D 2 2 1\n",
              "  E 2 0 1"
            ]
          },
          "metadata": {
            "tags": []
          }
        },
        {
          "output_type": "stream",
          "text": [
            "Warning message in chisq.test(table(data_intro$Produk, data_intro$Tingkat.Kepuasan)):\n",
            "“Chi-squared approximation may be incorrect”\n"
          ],
          "name": "stderr"
        },
        {
          "output_type": "display_data",
          "data": {
            "text/plain": [
              "\n",
              "\tPearson's Chi-squared test\n",
              "\n",
              "data:  table(data_intro$Produk, data_intro$Tingkat.Kepuasan)\n",
              "X-squared = 7.95, df = 8, p-value = 0.4384\n"
            ]
          },
          "metadata": {
            "tags": []
          }
        }
      ]
    },
    {
      "cell_type": "code",
      "metadata": {
        "colab": {
          "base_uri": "https://localhost:8080/",
          "height": 622
        },
        "id": "qFncBy9M1JtN",
        "outputId": "fa2301c0-3891-470f-b08a-88f11d04f9b0"
      },
      "source": [
        "## carilah boxplot antara variabel jenis kelamin dengan total belanja\n",
        "boxplot(Total~Jenis.Kelamin,data = data_intro)\n",
        "\n",
        "## analisis bagaimana hubungan jenis kelamin dengan total belanja mengunakan uji statistik t-test\n",
        "t.test(Total~Jenis.Kelamin,data = data_intro)\n"
      ],
      "execution_count": 19,
      "outputs": [
        {
          "output_type": "display_data",
          "data": {
            "text/plain": [
              "\n",
              "\tWelch Two Sample t-test\n",
              "\n",
              "data:  Total by Jenis.Kelamin\n",
              "t = -1.1498, df = 12.133, p-value = 0.2724\n",
              "alternative hypothesis: true difference in means between group 1 and group 2 is not equal to 0\n",
              "95 percent confidence interval:\n",
              " -488985.4  150890.2\n",
              "sample estimates:\n",
              "mean in group 1 mean in group 2 \n",
              "       591666.7        760714.3 \n"
            ]
          },
          "metadata": {
            "tags": []
          }
        },
        {
          "output_type": "display_data",
          "data": {
            "image/png": "[encoded data removed]",
            "text/plain": [
              "plot without title"
            ]
          },
          "metadata": {
            "tags": [],
            "image/png": {
              "width": 420,
              "height": 420
            }
          }
        }
      ]
    }
  ]
}