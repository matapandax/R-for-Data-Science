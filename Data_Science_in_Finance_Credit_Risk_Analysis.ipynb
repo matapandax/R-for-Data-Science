{
  "nbformat": 4,
  "nbformat_minor": 0,
  "metadata": {
    "colab": {
      "name": "Data Science in Finance: Credit Risk Analysis.ipynb",
      "provenance": [],
      "authorship_tag": "ABX9TyMxlPc8//yANPkRwUfkCol1",
      "include_colab_link": true
    },
    "kernelspec": {
      "name": "ir",
      "display_name": "R"
    },
    "language_info": {
      "name": "R"
    }
  },
  "cells": [
    {
      "cell_type": "markdown",
      "metadata": {
        "id": "view-in-github",
        "colab_type": "text"
      },
      "source": [
        "<a href=\"https://colab.research.google.com/github/matapandax/R-for-Data-Science/blob/main/Data_Science_in_Finance_Credit_Risk_Analysis.ipynb\" target=\"_parent\"><img src=\"https://colab.research.google.com/assets/colab-badge.svg\" alt=\"Open In Colab\"/></a>"
      ]
    },
    {
      "cell_type": "code",
      "metadata": {
        "colab": {
          "base_uri": "https://localhost:8080/"
        },
        "id": "cj69UXz43sQc",
        "outputId": "61569ce4-9923-4be8-f6d9-05b679b703eb"
      },
      "source": [
        "install.packages('openxlsx')\n",
        "library(\"openxlsx\")\n",
        "\n",
        "#Mempersiapkan data\n",
        "dataCreditRating <- read.xlsx(xlsxFile = \"https://storage.googleapis.com/dqlab-dataset/credit_scoring_dqlab.xlsx\")\n",
        "str(dataCreditRating)\n",
        "\n",
        "#Melakukan konversi kolom risk_rating menjadi factor\n",
        "dataCreditRating$risk_rating <- as.factor(dataCreditRating$risk_rating)\n",
        "\n",
        "#Melihat struktur setelah konversi\n",
        "str(dataCreditRating)"
      ],
      "execution_count": 2,
      "outputs": [
        {
          "output_type": "stream",
          "text": [
            "Installing package into ‘/usr/local/lib/R/site-library’\n",
            "(as ‘lib’ is unspecified)\n",
            "\n"
          ],
          "name": "stderr"
        },
        {
          "output_type": "stream",
          "text": [
            "'data.frame':\t900 obs. of  7 variables:\n",
            " $ kode_kontrak           : chr  \"AGR-000001\" \"AGR-000011\" \"AGR-000030\" \"AGR-000043\" ...\n",
            " $ pendapatan_setahun_juta: num  295 271 159 210 165 220 70 88 163 100 ...\n",
            " $ kpr_aktif              : chr  \"YA\" \"YA\" \"TIDAK\" \"YA\" ...\n",
            " $ durasi_pinjaman_bulan  : num  48 36 12 12 36 24 36 48 48 36 ...\n",
            " $ jumlah_tanggungan      : num  5 5 0 3 0 5 3 3 5 6 ...\n",
            " $ rata_rata_overdue      : chr  \"61 - 90 days\" \"61 - 90 days\" \"0 - 30 days\" \"46 - 60 days\" ...\n",
            " $ risk_rating            : num  4 4 1 3 2 1 2 2 2 2 ...\n",
            "'data.frame':\t900 obs. of  7 variables:\n",
            " $ kode_kontrak           : chr  \"AGR-000001\" \"AGR-000011\" \"AGR-000030\" \"AGR-000043\" ...\n",
            " $ pendapatan_setahun_juta: num  295 271 159 210 165 220 70 88 163 100 ...\n",
            " $ kpr_aktif              : chr  \"YA\" \"YA\" \"TIDAK\" \"YA\" ...\n",
            " $ durasi_pinjaman_bulan  : num  48 36 12 12 36 24 36 48 48 36 ...\n",
            " $ jumlah_tanggungan      : num  5 5 0 3 0 5 3 3 5 6 ...\n",
            " $ rata_rata_overdue      : chr  \"61 - 90 days\" \"61 - 90 days\" \"0 - 30 days\" \"46 - 60 days\" ...\n",
            " $ risk_rating            : Factor w/ 5 levels \"1\",\"2\",\"3\",\"4\",..: 4 4 1 3 2 1 2 2 2 2 ...\n"
          ],
          "name": "stdout"
        }
      ]
    },
    {
      "cell_type": "code",
      "metadata": {
        "colab": {
          "base_uri": "https://localhost:8080/"
        },
        "id": "AEVlE3Gr4X8m",
        "outputId": "b95594ed-c37b-4720-9a94-9c78056968c1"
      },
      "source": [
        "dataCreditRating <- read.xlsx(xlsxFile = \"https://storage.googleapis.com/dqlab-dataset/credit_scoring_dqlab.xlsx\")\n",
        "#Merubah tipe data class variable sebagai factor \n",
        "dataCreditRating$risk_rating <- as.factor(dataCreditRating$risk_rating) \n",
        "str(dataCreditRating)\n",
        "\n",
        "#Menghilangkan beberapa variable input dari dataset \n",
        "input_columns <- c(\"durasi_pinjaman_bulan\", \"jumlah_tanggungan\")\n",
        "datafeed <- dataCreditRating[ , input_columns ]\n",
        "str(datafeed)"
      ],
      "execution_count": 3,
      "outputs": [
        {
          "output_type": "stream",
          "text": [
            "'data.frame':\t900 obs. of  7 variables:\n",
            " $ kode_kontrak           : chr  \"AGR-000001\" \"AGR-000011\" \"AGR-000030\" \"AGR-000043\" ...\n",
            " $ pendapatan_setahun_juta: num  295 271 159 210 165 220 70 88 163 100 ...\n",
            " $ kpr_aktif              : chr  \"YA\" \"YA\" \"TIDAK\" \"YA\" ...\n",
            " $ durasi_pinjaman_bulan  : num  48 36 12 12 36 24 36 48 48 36 ...\n",
            " $ jumlah_tanggungan      : num  5 5 0 3 0 5 3 3 5 6 ...\n",
            " $ rata_rata_overdue      : chr  \"61 - 90 days\" \"61 - 90 days\" \"0 - 30 days\" \"46 - 60 days\" ...\n",
            " $ risk_rating            : Factor w/ 5 levels \"1\",\"2\",\"3\",\"4\",..: 4 4 1 3 2 1 2 2 2 2 ...\n",
            "'data.frame':\t900 obs. of  2 variables:\n",
            " $ durasi_pinjaman_bulan: num  48 36 12 12 36 24 36 48 48 36 ...\n",
            " $ jumlah_tanggungan    : num  5 5 0 3 0 5 3 3 5 6 ...\n"
          ],
          "name": "stdout"
        }
      ]
    },
    {
      "cell_type": "code",
      "metadata": {
        "colab": {
          "base_uri": "https://localhost:8080/"
        },
        "id": "ue17BSig4nl5",
        "outputId": "2cb9a6bd-3e0c-4bb1-cb29-61d11a60c050"
      },
      "source": [
        "#Mempersiapkan class dan input variables \n",
        "dataCreditRating$risk_rating <- as.factor(dataCreditRating$risk_rating) \n",
        "input_columns <- c(\"durasi_pinjaman_bulan\", \"jumlah_tanggungan\")\n",
        "datafeed <- dataCreditRating[ , input_columns ]\n",
        "\n",
        "#Mempersiapkan porsi index acak untuk training dan testing set\n",
        "set.seed(100)\n",
        "indeks_training_set <- sample(900, 800)\n",
        "\n",
        "#Membuat dan menampilkan training set dan testing set\n",
        "input_training_set <- datafeed[indeks_training_set,]\n",
        "class_training_set <- dataCreditRating[indeks_training_set,]$risk_rating\n",
        "input_testing_set <- datafeed[-indeks_training_set,]\n",
        "\n",
        "str(input_training_set)\n",
        "str(class_training_set)"
      ],
      "execution_count": 4,
      "outputs": [
        {
          "output_type": "stream",
          "text": [
            "'data.frame':\t800 obs. of  2 variables:\n",
            " $ durasi_pinjaman_bulan: num  36 24 36 36 36 24 12 48 48 12 ...\n",
            " $ jumlah_tanggungan    : num  1 1 5 1 5 3 3 3 0 0 ...\n",
            " Factor w/ 5 levels \"1\",\"2\",\"3\",\"4\",..: 1 1 4 1 5 3 3 3 2 1 ...\n"
          ],
          "name": "stdout"
        }
      ]
    },
    {
      "cell_type": "code",
      "metadata": {
        "colab": {
          "base_uri": "https://localhost:8080/"
        },
        "id": "3FbTWF0g49DQ",
        "outputId": "a1639b2c-77e3-4e3d-ae71-8f74c155968e"
      },
      "source": [
        "install.packages('C50')\n",
        "library(\"C50\")"
      ],
      "execution_count": 6,
      "outputs": [
        {
          "output_type": "stream",
          "text": [
            "Installing package into ‘/usr/local/lib/R/site-library’\n",
            "(as ‘lib’ is unspecified)\n",
            "\n",
            "also installing the dependencies ‘plyr’, ‘libcoin’, ‘mvtnorm’, ‘Formula’, ‘inum’, ‘reshape2’, ‘partykit’, ‘Cubist’\n",
            "\n",
            "\n"
          ],
          "name": "stderr"
        }
      ]
    },
    {
      "cell_type": "code",
      "metadata": {
        "colab": {
          "base_uri": "https://localhost:8080/",
          "height": 874
        },
        "id": "gVlBRGre5ORn",
        "outputId": "7de1e0b6-ff55-4cf8-d4ef-c46d1b257595"
      },
      "source": [
        "#menghasilkan dan menampilkan summary model\n",
        "risk_rating_model <- C5.0(input_training_set, class_training_set)\n",
        "summary(risk_rating_model)"
      ],
      "execution_count": 7,
      "outputs": [
        {
          "output_type": "display_data",
          "data": {
            "text/plain": [
              "\n",
              "Call:\n",
              "C5.0.default(x = input_training_set, y = class_training_set)\n",
              "\n",
              "\n",
              "C5.0 [Release 2.07 GPL Edition]  \tMon Aug  2 12:45:14 2021\n",
              "-------------------------------\n",
              "\n",
              "Class specified by attribute `outcome'\n",
              "\n",
              "Read 800 cases (3 attributes) from undefined.data\n",
              "\n",
              "Decision tree:\n",
              "\n",
              "jumlah_tanggungan > 4:\n",
              ":...durasi_pinjaman_bulan <= 24: 4 (105/30)\n",
              ":   durasi_pinjaman_bulan > 24: 5 (120/51)\n",
              "jumlah_tanggungan <= 4:\n",
              ":...jumlah_tanggungan > 2: 3 (216/20)\n",
              "    jumlah_tanggungan <= 2:\n",
              "    :...durasi_pinjaman_bulan <= 36: 1 (264/80)\n",
              "        durasi_pinjaman_bulan > 36:\n",
              "        :...jumlah_tanggungan <= 0: 2 (37/7)\n",
              "            jumlah_tanggungan > 0: 3 (58/4)\n",
              "\n",
              "\n",
              "Evaluation on training data (800 cases):\n",
              "\n",
              "\t    Decision Tree   \n",
              "\t  ----------------  \n",
              "\t  Size      Errors  \n",
              "\n",
              "\t     6  192(24.0%)   <<\n",
              "\n",
              "\n",
              "\t   (a)   (b)   (c)   (d)   (e)    <-classified as\n",
              "\t  ----  ----  ----  ----  ----\n",
              "\t   184     2     5     6     6    (a): class 1\n",
              "\t    80    30    19     6    11    (b): class 2\n",
              "\t           3   250                (c): class 3\n",
              "\t           2          75    34    (d): class 4\n",
              "\t                      18    69    (e): class 5\n",
              "\n",
              "\n",
              "\tAttribute usage:\n",
              "\n",
              "\t100.00%\tjumlah_tanggungan\n",
              "\t 73.00%\tdurasi_pinjaman_bulan\n",
              "\n",
              "\n",
              "Time: 0.0 secs\n"
            ]
          },
          "metadata": {
            "tags": []
          }
        }
      ]
    },
    {
      "cell_type": "code",
      "metadata": {
        "colab": {
          "base_uri": "https://localhost:8080/",
          "height": 437
        },
        "id": "-k3gDefJ5kdO",
        "outputId": "0adb534a-b4b6-4bf0-cc5e-12efbc36ca51"
      },
      "source": [
        "plot(risk_rating_model)"
      ],
      "execution_count": 8,
      "outputs": [
        {
          "output_type": "display_data",
          "data": {
            "image/png": "[encoded data removed]",
            "text/plain": [
              "plot without title"
            ]
          },
          "metadata": {
            "tags": [],
            "image/png": {
              "width": 420,
              "height": 420
            }
          }
        }
      ]
    },
    {
      "cell_type": "code",
      "metadata": {
        "colab": {
          "base_uri": "https://localhost:8080/",
          "height": 890
        },
        "id": "BrbwF3_M54mi",
        "outputId": "930f4dee-a7b0-4816-d988-23b81ea151e6"
      },
      "source": [
        "risk_rating_model <- C5.0(input_training_set, class_training_set,control = C5.0Control(label=\"Risk Rating\"))\n",
        "summary(risk_rating_model)"
      ],
      "execution_count": 9,
      "outputs": [
        {
          "output_type": "display_data",
          "data": {
            "text/plain": [
              "\n",
              "Call:\n",
              "C5.0.default(x = input_training_set, y = class_training_set, control\n",
              " = C5.0Control(label = \"Risk Rating\"))\n",
              "\n",
              "\n",
              "C5.0 [Release 2.07 GPL Edition]  \tMon Aug  2 12:47:25 2021\n",
              "-------------------------------\n",
              "\n",
              "Class specified by attribute `Risk Rating'\n",
              "\n",
              "Read 800 cases (3 attributes) from undefined.data\n",
              "\n",
              "Decision tree:\n",
              "\n",
              "jumlah_tanggungan > 4:\n",
              ":...durasi_pinjaman_bulan <= 24: 4 (105/30)\n",
              ":   durasi_pinjaman_bulan > 24: 5 (120/51)\n",
              "jumlah_tanggungan <= 4:\n",
              ":...jumlah_tanggungan > 2: 3 (216/20)\n",
              "    jumlah_tanggungan <= 2:\n",
              "    :...durasi_pinjaman_bulan <= 36: 1 (264/80)\n",
              "        durasi_pinjaman_bulan > 36:\n",
              "        :...jumlah_tanggungan <= 0: 2 (37/7)\n",
              "            jumlah_tanggungan > 0: 3 (58/4)\n",
              "\n",
              "\n",
              "Evaluation on training data (800 cases):\n",
              "\n",
              "\t    Decision Tree   \n",
              "\t  ----------------  \n",
              "\t  Size      Errors  \n",
              "\n",
              "\t     6  192(24.0%)   <<\n",
              "\n",
              "\n",
              "\t   (a)   (b)   (c)   (d)   (e)    <-classified as\n",
              "\t  ----  ----  ----  ----  ----\n",
              "\t   184     2     5     6     6    (a): class 1\n",
              "\t    80    30    19     6    11    (b): class 2\n",
              "\t           3   250                (c): class 3\n",
              "\t           2          75    34    (d): class 4\n",
              "\t                      18    69    (e): class 5\n",
              "\n",
              "\n",
              "\tAttribute usage:\n",
              "\n",
              "\t100.00%\tjumlah_tanggungan\n",
              "\t 73.00%\tdurasi_pinjaman_bulan\n",
              "\n",
              "\n",
              "Time: 0.0 secs\n"
            ]
          },
          "metadata": {
            "tags": []
          }
        }
      ]
    },
    {
      "cell_type": "code",
      "metadata": {
        "colab": {
          "base_uri": "https://localhost:8080/",
          "height": 874
        },
        "id": "d5FF7kSP6ama",
        "outputId": "70d0bd95-c34e-414f-9122-cfca60c3bd58"
      },
      "source": [
        "#Mempersiapkan class dan input variables \n",
        "dataCreditRating$risk_rating <- as.factor(dataCreditRating$risk_rating) \n",
        "input_columns <- c(\"durasi_pinjaman_bulan\", \"jumlah_tanggungan\",\"kpr_aktif\")\n",
        "datafeed <- dataCreditRating[ , input_columns ]\n",
        "\n",
        "#Mempersiapkan training dan testing set\n",
        "set.seed(100) #untuk menyeragamkan hasil random antar tiap komputer\n",
        "indeks_training_set <- sample(900, 780)\n",
        "\n",
        "#Membuat dan menampilkan training set dan testing set\n",
        "input_training_set <- datafeed[indeks_training_set,]\n",
        "class_training_set <- dataCreditRating[indeks_training_set,]$risk_rating\n",
        "input_testing_set <- datafeed[-indeks_training_set,]\n",
        "\n",
        "#menghasilkan model\n",
        "risk_rating_model <- C5.0(input_training_set, class_training_set, control = C5.0Control(label=\"Risk Rating\"))\n",
        "summary(risk_rating_model)\n",
        "\n"
      ],
      "execution_count": 10,
      "outputs": [
        {
          "output_type": "display_data",
          "data": {
            "text/plain": [
              "\n",
              "Call:\n",
              "C5.0.default(x = input_training_set, y = class_training_set, control\n",
              " = C5.0Control(label = \"Risk Rating\"))\n",
              "\n",
              "\n",
              "C5.0 [Release 2.07 GPL Edition]  \tMon Aug  2 12:49:44 2021\n",
              "-------------------------------\n",
              "\n",
              "Class specified by attribute `Risk Rating'\n",
              "\n",
              "Read 780 cases (4 attributes) from undefined.data\n",
              "\n",
              "Decision tree:\n",
              "\n",
              "kpr_aktif = TIDAK:\n",
              ":...durasi_pinjaman_bulan <= 36: 1 (293/103)\n",
              ":   durasi_pinjaman_bulan > 36: 2 (47/7)\n",
              "kpr_aktif = YA:\n",
              ":...jumlah_tanggungan <= 4: 3 (247/4)\n",
              "    jumlah_tanggungan > 4:\n",
              "    :...durasi_pinjaman_bulan <= 24: 4 (91/17)\n",
              "        durasi_pinjaman_bulan > 24: 5 (102/34)\n",
              "\n",
              "\n",
              "Evaluation on training data (780 cases):\n",
              "\n",
              "\t    Decision Tree   \n",
              "\t  ----------------  \n",
              "\t  Size      Errors  \n",
              "\n",
              "\t     5  165(21.2%)   <<\n",
              "\n",
              "\n",
              "\t   (a)   (b)   (c)   (d)   (e)    <-classified as\n",
              "\t  ----  ----  ----  ----  ----\n",
              "\t   190     5     2                (a): class 1\n",
              "\t   101    40                 1    (b): class 2\n",
              "\t     1     1   243                (c): class 3\n",
              "\t                 2    74    33    (d): class 4\n",
              "\t     1     1          17    68    (e): class 5\n",
              "\n",
              "\n",
              "\tAttribute usage:\n",
              "\n",
              "\t100.00%\tkpr_aktif\n",
              "\t 68.33%\tdurasi_pinjaman_bulan\n",
              "\t 56.41%\tjumlah_tanggungan\n",
              "\n",
              "\n",
              "Time: 0.0 secs\n"
            ]
          },
          "metadata": {
            "tags": []
          }
        }
      ]
    },
    {
      "cell_type": "markdown",
      "metadata": {
        "id": "YagSIOqC7cre"
      },
      "source": [
        "**Merubah Label Class Variable**"
      ]
    },
    {
      "cell_type": "code",
      "metadata": {
        "colab": {
          "base_uri": "https://localhost:8080/",
          "height": 1000
        },
        "id": "RuJsfmPv6rva",
        "outputId": "079963e4-7fd9-4854-8070-fc5aa947ad98"
      },
      "source": [
        "#Mempersiapkan data\n",
        "dataCreditRating <- read.xlsx(xlsxFile = \"https://storage.googleapis.com/dqlab-dataset/credit_scoring_dqlab.xlsx\")\n",
        "\n",
        "#Mempersiapkan class dan input variables \n",
        "dataCreditRating$risk_rating[dataCreditRating$risk_rating == \"1\"]  <-  \"satu\"\n",
        "dataCreditRating$risk_rating[dataCreditRating$risk_rating == \"2\"]  <-  \"dua\"\n",
        "dataCreditRating$risk_rating[dataCreditRating$risk_rating == \"3\"]  <-  \"tiga\"\n",
        "dataCreditRating$risk_rating[dataCreditRating$risk_rating == \"4\"]  <-  \"empat\"\n",
        "dataCreditRating$risk_rating[dataCreditRating$risk_rating == \"5\"]  <-  \"lima\"\n",
        "dataCreditRating$risk_rating <- as.factor(dataCreditRating$risk_rating) \n",
        "input_columns <- c(\"durasi_pinjaman_bulan\", \"jumlah_tanggungan\")\n",
        "datafeed <- dataCreditRating[ , input_columns ]\n",
        "\n",
        "\n",
        "#Mempersiapkan training dan testing set\n",
        "set.seed(100) #untuk menyeragamkan hasil random antar tiap komputer\n",
        "indeks_training_set <- sample(900, 800)\n",
        "\n",
        "#Membuat dan menampilkan training set dan testing set\n",
        "input_training_set <- datafeed[indeks_training_set,]\n",
        "class_training_set <- dataCreditRating[indeks_training_set,]$risk_rating\n",
        "input_testing_set <- datafeed[-indeks_training_set,]\n",
        "\n",
        "#menghasilkan model\n",
        "risk_rating_model <- C5.0(input_training_set, class_training_set, control = C5.0Control(label=\"Risk Rating\"))\n",
        "summary(risk_rating_model)\n",
        "\n",
        "#Mempersiapkan class dan input variables \n",
        "dataCreditRating$risk_rating[dataCreditRating$risk_rating == \"1\"]  <-  \"satu\"\n",
        "dataCreditRating$risk_rating[dataCreditRating$risk_rating == \"2\"]  <-  \"dua\"\n",
        "dataCreditRating$risk_rating[dataCreditRating$risk_rating == \"3\"]  <-  \"tiga\"\n",
        "dataCreditRating$risk_rating[dataCreditRating$risk_rating == \"4\"]  <-  \"empat\"\n",
        "dataCreditRating$risk_rating[dataCreditRating$risk_rating == \"5\"]  <-  \"lima\"\n",
        "dataCreditRating$risk_rating <- as.factor(dataCreditRating$risk_rating) \n",
        "input_columns <- c(\"durasi_pinjaman_bulan\", \"jumlah_tanggungan\")\n",
        "datafeed <- dataCreditRating[ , input_columns ]\n",
        "\n",
        "#Mempersiapkan training dan testing set\n",
        "set.seed(100) #untuk menyeragamkan hasil random antar tiap komputer\n",
        "indeks_training_set <- sample(900, 800)\n",
        "\n",
        "#Membuat dan menampilkan training set dan testing set\n",
        "input_training_set <- datafeed[indeks_training_set,]\n",
        "class_training_set <- dataCreditRating[indeks_training_set,]$risk_rating\n",
        "input_testing_set <- datafeed[-indeks_training_set,]\n",
        "\n",
        "#menghasilkan model\n",
        "risk_rating_model <- C5.0(input_training_set, class_training_set, control = C5.0Control(label=\"Risk Rating\"))\n",
        "summary(risk_rating_model)\n",
        "\n"
      ],
      "execution_count": 16,
      "outputs": [
        {
          "output_type": "display_data",
          "data": {
            "text/plain": [
              "\n",
              "Call:\n",
              "C5.0.default(x = input_training_set, y = class_training_set, control\n",
              " = C5.0Control(label = \"Risk Rating\"))\n",
              "\n",
              "\n",
              "C5.0 [Release 2.07 GPL Edition]  \tMon Aug  2 12:56:16 2021\n",
              "-------------------------------\n",
              "\n",
              "Class specified by attribute `Risk Rating'\n",
              "\n",
              "Read 800 cases (3 attributes) from undefined.data\n",
              "\n",
              "Decision tree:\n",
              "\n",
              "jumlah_tanggungan > 4:\n",
              ":...durasi_pinjaman_bulan <= 24: empat (105/30)\n",
              ":   durasi_pinjaman_bulan > 24: lima (120/51)\n",
              "jumlah_tanggungan <= 4:\n",
              ":...jumlah_tanggungan > 2: tiga (216/20)\n",
              "    jumlah_tanggungan <= 2:\n",
              "    :...durasi_pinjaman_bulan <= 36: satu (264/80)\n",
              "        durasi_pinjaman_bulan > 36:\n",
              "        :...jumlah_tanggungan <= 0: dua (37/7)\n",
              "            jumlah_tanggungan > 0: tiga (58/4)\n",
              "\n",
              "\n",
              "Evaluation on training data (800 cases):\n",
              "\n",
              "\t    Decision Tree   \n",
              "\t  ----------------  \n",
              "\t  Size      Errors  \n",
              "\n",
              "\t     6  192(24.0%)   <<\n",
              "\n",
              "\n",
              "\t   (a)   (b)   (c)   (d)   (e)    <-classified as\n",
              "\t  ----  ----  ----  ----  ----\n",
              "\t    30     6    11    80    19    (a): class dua\n",
              "\t     2    75    34                (b): class empat\n",
              "\t          18    69                (c): class lima\n",
              "\t     2     6     6   184     5    (d): class satu\n",
              "\t     3                     250    (e): class tiga\n",
              "\n",
              "\n",
              "\tAttribute usage:\n",
              "\n",
              "\t100.00%\tjumlah_tanggungan\n",
              "\t 73.00%\tdurasi_pinjaman_bulan\n",
              "\n",
              "\n",
              "Time: 0.0 secs\n"
            ]
          },
          "metadata": {
            "tags": []
          }
        },
        {
          "output_type": "display_data",
          "data": {
            "text/plain": [
              "\n",
              "Call:\n",
              "C5.0.default(x = input_training_set, y = class_training_set, control\n",
              " = C5.0Control(label = \"Risk Rating\"))\n",
              "\n",
              "\n",
              "C5.0 [Release 2.07 GPL Edition]  \tMon Aug  2 12:56:16 2021\n",
              "-------------------------------\n",
              "\n",
              "Class specified by attribute `Risk Rating'\n",
              "\n",
              "Read 800 cases (3 attributes) from undefined.data\n",
              "\n",
              "Decision tree:\n",
              "\n",
              "jumlah_tanggungan > 4:\n",
              ":...durasi_pinjaman_bulan <= 24: empat (105/30)\n",
              ":   durasi_pinjaman_bulan > 24: lima (120/51)\n",
              "jumlah_tanggungan <= 4:\n",
              ":...jumlah_tanggungan > 2: tiga (216/20)\n",
              "    jumlah_tanggungan <= 2:\n",
              "    :...durasi_pinjaman_bulan <= 36: satu (264/80)\n",
              "        durasi_pinjaman_bulan > 36:\n",
              "        :...jumlah_tanggungan <= 0: dua (37/7)\n",
              "            jumlah_tanggungan > 0: tiga (58/4)\n",
              "\n",
              "\n",
              "Evaluation on training data (800 cases):\n",
              "\n",
              "\t    Decision Tree   \n",
              "\t  ----------------  \n",
              "\t  Size      Errors  \n",
              "\n",
              "\t     6  192(24.0%)   <<\n",
              "\n",
              "\n",
              "\t   (a)   (b)   (c)   (d)   (e)    <-classified as\n",
              "\t  ----  ----  ----  ----  ----\n",
              "\t    30     6    11    80    19    (a): class dua\n",
              "\t     2    75    34                (b): class empat\n",
              "\t          18    69                (c): class lima\n",
              "\t     2     6     6   184     5    (d): class satu\n",
              "\t     3                     250    (e): class tiga\n",
              "\n",
              "\n",
              "\tAttribute usage:\n",
              "\n",
              "\t100.00%\tjumlah_tanggungan\n",
              "\t 73.00%\tdurasi_pinjaman_bulan\n",
              "\n",
              "\n",
              "Time: 0.0 secs\n"
            ]
          },
          "metadata": {
            "tags": []
          }
        }
      ]
    },
    {
      "cell_type": "code",
      "metadata": {
        "colab": {
          "base_uri": "https://localhost:8080/",
          "height": 437
        },
        "id": "t--wAYuj61DI",
        "outputId": "d5f67b30-e91b-45b9-dda5-5a15999c4aab"
      },
      "source": [
        "plot(risk_rating_model)"
      ],
      "execution_count": 17,
      "outputs": [
        {
          "output_type": "display_data",
          "data": {
            "image/png": "[encoded data removed]",
            "text/plain": [
              "plot without title"
            ]
          },
          "metadata": {
            "tags": [],
            "image/png": {
              "width": 420,
              "height": 420
            }
          }
        }
      ]
    }
  ]
}